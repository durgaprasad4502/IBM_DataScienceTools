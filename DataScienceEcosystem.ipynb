{
 "cells": [
  {
   "cell_type": "markdown",
   "id": "258d0fa7",
   "metadata": {},
   "source": [
    "# Data Science Tools and Ecosystem"
   ]
  },
  {
   "cell_type": "markdown",
   "id": "78f006bf",
   "metadata": {},
   "source": [
    "## In this notebook, Data Science Tools and Ecosystem are summarized."
   ]
  },
  {
   "cell_type": "markdown",
   "id": "aeb50632",
   "metadata": {},
   "source": [
    "## Some of the popular languages that Data Scientists use are:"
   ]
  },
  {
   "cell_type": "markdown",
   "id": "a1abf2d2",
   "metadata": {},
   "source": [
    "    1.Python\n",
    "    2.R\n",
    "    3.Scala"
   ]
  },
  {
   "cell_type": "markdown",
   "id": "944c466a",
   "metadata": {},
   "source": [
    "## Some of the commonly used libraries used by Data Scientists include:"
   ]
  },
  {
   "cell_type": "markdown",
   "id": "ae597ed1",
   "metadata": {},
   "source": [
    "      1.Tensorflow\n",
    "      2.Scikit-Learn\n",
    "      3.Keras"
   ]
  },
  {
   "cell_type": "markdown",
   "id": "9ab0bd0e",
   "metadata": {},
   "source": [
    "# Data Science Tools\n",
    "\n",
    "| Integrated Development Environment (IDE) | Language |\n",
    "|-------------------------------------------|-------------|\n",
    "| Anaconda | Python & R |\n",
    "| R Studio | R |\n",
    "|Jupyter Notebook | Python |\n",
    "| Spyder | Python |"
   ]
  },
  {
   "cell_type": "markdown",
   "id": "a3a1354d",
   "metadata": {},
   "source": [
    "### Below are a few examples of evaluating arithmetic expressions in Python."
   ]
  },
  {
   "cell_type": "markdown",
   "id": "4d3ba7e5",
   "metadata": {},
   "source": [
    "### This a simple arithmetic expression to mutiply then add integers"
   ]
  },
  {
   "cell_type": "code",
   "execution_count": 5,
   "id": "0d336959",
   "metadata": {},
   "outputs": [
    {
     "data": {
      "text/plain": [
       "17"
      ]
     },
     "execution_count": 5,
     "metadata": {},
     "output_type": "execute_result"
    }
   ],
   "source": [
    "(3*4)+5"
   ]
  },
  {
   "cell_type": "markdown",
   "id": "fc625900",
   "metadata": {},
   "source": [
    "### This will convert 200 minutes to hours by diving by 60"
   ]
  },
  {
   "cell_type": "code",
   "execution_count": 9,
   "id": "206ff92a",
   "metadata": {},
   "outputs": [
    {
     "name": "stdout",
     "output_type": "stream",
     "text": [
      "3 hours 20 minutes\n"
     ]
    }
   ],
   "source": [
    "min=200\n",
    "h=min//60\n",
    "m=min%60\n",
    "print(f\"{h} hours {m} minutes\")"
   ]
  },
  {
   "cell_type": "markdown",
   "id": "1eafd0d3",
   "metadata": {},
   "source": [
    "__Objectives__"
   ]
  },
  {
   "cell_type": "markdown",
   "id": "53b079e5",
   "metadata": {},
   "source": [
    "## In this notebook, Data Science Tools and Ecosystem Topics are summarized.\n",
    "\n",
    "    -Languages Used In Data Sciience\n",
    "    -Tools Used in Data Science\n",
    "    -IDE's Used for Data Science\n",
    "    -Common Libaries Used For Data Science\n"
   ]
  },
  {
   "cell_type": "markdown",
   "id": "d7b763a7",
   "metadata": {},
   "source": [
    "## Author:"
   ]
  },
  {
   "cell_type": "markdown",
   "id": "2cc8ca07",
   "metadata": {},
   "source": [
    "G.Radha Durga Prasad"
   ]
  },
  {
   "cell_type": "code",
   "execution_count": null,
   "id": "1ed9624b",
   "metadata": {},
   "outputs": [],
   "source": []
  }
 ],
 "metadata": {
  "kernelspec": {
   "display_name": "Python 3 (ipykernel)",
   "language": "python",
   "name": "python3"
  },
  "language_info": {
   "codemirror_mode": {
    "name": "ipython",
    "version": 3
   },
   "file_extension": ".py",
   "mimetype": "text/x-python",
   "name": "python",
   "nbconvert_exporter": "python",
   "pygments_lexer": "ipython3",
   "version": "3.11.4"
  }
 },
 "nbformat": 4,
 "nbformat_minor": 5
}
